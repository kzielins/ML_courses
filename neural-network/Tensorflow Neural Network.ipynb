{
  "nbformat": 4,
  "nbformat_minor": 0,
  "metadata": {
    "kernelspec": {
      "display_name": "Python 3",
      "language": "python",
      "name": "python3"
    },
    "language_info": {
      "codemirror_mode": {
        "name": "ipython",
        "version": 3
      },
      "file_extension": ".py",
      "mimetype": "text/x-python",
      "name": "python",
      "nbconvert_exporter": "python",
      "pygments_lexer": "ipython3",
      "version": "3.7.3"
    },
    "colab": {
      "name": "Tensorflow Neural Network.ipynb",
      "provenance": [],
      "include_colab_link": true
    }
  },
  "cells": [
    {
      "cell_type": "markdown",
      "metadata": {
        "id": "view-in-github",
        "colab_type": "text"
      },
      "source": [
        "<a href=\"https://colab.research.google.com/github/kzielins/ML_courses/blob/main/neural-network/Tensorflow%20Neural%20Network.ipynb\" target=\"_parent\"><img src=\"https://colab.research.google.com/assets/colab-badge.svg\" alt=\"Open In Colab\"/></a>"
      ]
    },
    {
      "cell_type": "code",
      "metadata": {
        "id": "zWX3MgyhswFC"
      },
      "source": [
        "import tensorflow as tf\n",
        "import matplotlib.pyplot as plt"
      ],
      "execution_count": null,
      "outputs": []
    },
    {
      "cell_type": "markdown",
      "metadata": {
        "id": "Zsn66qwyswFg"
      },
      "source": [
        "In this example the input is just 1-D tensor. The two values could be something like leaf size and leaf width."
      ]
    },
    {
      "cell_type": "code",
      "metadata": {
        "id": "6R5zbbd_swFi",
        "outputId": "280c6cd6-f37c-4975-b315-c45c745df8ac"
      },
      "source": [
        "x = tf.Variable([[1.,2.]])\n",
        "x.shape"
      ],
      "execution_count": null,
      "outputs": [
        {
          "output_type": "execute_result",
          "data": {
            "text/plain": [
              "TensorShape([1, 2])"
            ]
          },
          "metadata": {
            "tags": []
          },
          "execution_count": 2
        }
      ]
    },
    {
      "cell_type": "markdown",
      "metadata": {
        "id": "za0dySn5swFl"
      },
      "source": [
        "Label (y) is 5. The goal is to make a model that can map from x to y. This could be for example an index of maple. In that case the model could predict tree when leaf size and width given."
      ]
    },
    {
      "cell_type": "code",
      "metadata": {
        "id": "T9NJTanQswFn"
      },
      "source": [
        "y = 5."
      ],
      "execution_count": null,
      "outputs": []
    },
    {
      "cell_type": "code",
      "metadata": {
        "id": "dd4ZhiQVswFo"
      },
      "source": [
        "def initalize_parameters(size, variance=1.0):\n",
        "    return tf.Variable((tf.random.normal(size) * variance))"
      ],
      "execution_count": null,
      "outputs": []
    },
    {
      "cell_type": "code",
      "metadata": {
        "id": "NZ8sdDvRswFo"
      },
      "source": [
        "first_layer_output_size = 3"
      ],
      "execution_count": null,
      "outputs": []
    },
    {
      "cell_type": "markdown",
      "metadata": {
        "id": "V5Ky4APHswFp"
      },
      "source": [
        "Parameteres are changed to make the predictions closer to the real values."
      ]
    },
    {
      "cell_type": "code",
      "metadata": {
        "id": "6q3nI7OiswFq",
        "outputId": "88f876b3-6922-49be-c8c3-06a9364050f8"
      },
      "source": [
        "weights_1 = initalize_parameters((x.shape[1], first_layer_output_size))\n",
        "weights_1"
      ],
      "execution_count": null,
      "outputs": [
        {
          "output_type": "execute_result",
          "data": {
            "text/plain": [
              "<tf.Variable 'Variable:0' shape=(2, 3) dtype=float32, numpy=\n",
              "array([[ 1.6579958 ,  2.0620756 , -0.5536627 ],\n",
              "       [ 0.5561175 ,  0.52956486,  0.920679  ]], dtype=float32)>"
            ]
          },
          "metadata": {
            "tags": []
          },
          "execution_count": 6
        }
      ]
    },
    {
      "cell_type": "code",
      "metadata": {
        "id": "VH_6YystswFr",
        "outputId": "385c8b25-59d5-4e26-bae7-0195a011ac22"
      },
      "source": [
        "bias_1 = initalize_parameters([1])\n",
        "bias_1"
      ],
      "execution_count": null,
      "outputs": [
        {
          "output_type": "execute_result",
          "data": {
            "text/plain": [
              "<tf.Variable 'Variable:0' shape=(1,) dtype=float32, numpy=array([1.6338966], dtype=float32)>"
            ]
          },
          "metadata": {
            "tags": []
          },
          "execution_count": 7
        }
      ]
    },
    {
      "cell_type": "code",
      "metadata": {
        "id": "61IXXkZ7swFs",
        "outputId": "c57bfe6b-3e47-450a-ac6c-37c6c6515c2c"
      },
      "source": [
        "weights_2 = initalize_parameters((first_layer_output_size,1))\n",
        "weights_2"
      ],
      "execution_count": null,
      "outputs": [
        {
          "output_type": "execute_result",
          "data": {
            "text/plain": [
              "<tf.Variable 'Variable:0' shape=(3, 1) dtype=float32, numpy=\n",
              "array([[ 0.18695632],\n",
              "       [-0.15468878],\n",
              "       [-1.6442192 ]], dtype=float32)>"
            ]
          },
          "metadata": {
            "tags": []
          },
          "execution_count": 8
        }
      ]
    },
    {
      "cell_type": "code",
      "metadata": {
        "id": "KBhKioT2swFu",
        "outputId": "e6ceb044-2fde-4374-f50c-5152439e6dbd"
      },
      "source": [
        "bias_2 = initalize_parameters([1])\n",
        "bias_2"
      ],
      "execution_count": null,
      "outputs": [
        {
          "output_type": "execute_result",
          "data": {
            "text/plain": [
              "<tf.Variable 'Variable:0' shape=(1,) dtype=float32, numpy=array([0.24501882], dtype=float32)>"
            ]
          },
          "metadata": {
            "tags": []
          },
          "execution_count": 9
        }
      ]
    },
    {
      "cell_type": "markdown",
      "metadata": {
        "id": "2Ge37dd8swFv"
      },
      "source": [
        "Neural network consists from **at least** two linear layer and non-linear layer between them. In linear layer weights are multiplied by x and then bias is added to that result."
      ]
    },
    {
      "cell_type": "code",
      "metadata": {
        "id": "gj076eVMswFw"
      },
      "source": [
        "def simple_neural_network(xb):\n",
        "    # linear\n",
        "    l1 = xb @ weights_1 + bias_1\n",
        "    # non-linear\n",
        "    l2 = tf.math.maximum(l1, tf.Variable([0.]))\n",
        "    # linear\n",
        "    l3 = l2 @ weights_2 + bias_2\n",
        "    return l3"
      ],
      "execution_count": null,
      "outputs": []
    },
    {
      "cell_type": "markdown",
      "metadata": {
        "id": "W-82XM3EswFx"
      },
      "source": [
        "Loss measures the difference between predictions and real values."
      ]
    },
    {
      "cell_type": "code",
      "metadata": {
        "id": "6rOjZKB1swFx"
      },
      "source": [
        "def loss_func(preds, yb):\n",
        "    # Mean Squared Error (MSE)\n",
        "    return tf.math.reduce_mean((preds-yb)**2)"
      ],
      "execution_count": null,
      "outputs": []
    },
    {
      "cell_type": "markdown",
      "metadata": {
        "id": "3sqMFkPXswFy"
      },
      "source": [
        "Learning rate makes sure gradient can't modify parameters too much once."
      ]
    },
    {
      "cell_type": "code",
      "metadata": {
        "id": "TsO3xThWswFz"
      },
      "source": [
        "lr = tf.constant([10E-4])"
      ],
      "execution_count": null,
      "outputs": []
    },
    {
      "cell_type": "markdown",
      "metadata": {
        "id": "DpvSG1LQswF0"
      },
      "source": [
        "Every loop contains three simple steps:\n",
        "1. Make prediction\n",
        "2. Calculate how good the prediction was compared to the real value\n",
        "    - When calculating loss it automatically calculates gradient so we don't need to think about it\n",
        "3. Update parameters by subtracting gradient times learning rate"
      ]
    },
    {
      "cell_type": "code",
      "metadata": {
        "id": "oDpK6lsNswF0",
        "outputId": "a55d8b1f-00b0-4adb-b4ee-7c3119de319a"
      },
      "source": [
        "losses = []\n",
        "\n",
        "while(len(losses) == 0 or losses[-1] > 0.1):\n",
        "    with tf.GradientTape() as tape:\n",
        "        preds = simple_neural_network(x)\n",
        "        loss = loss_func(preds, y)\n",
        "    dW1, db1, dW2, db2 = tape.gradient(loss, [weights_1, bias_1, weights_2, bias_2])\n",
        "    \n",
        "    weights_1.assign_sub(dW1 * lr)\n",
        "    bias_1.assign_sub(db1 * lr)\n",
        "    \n",
        "    weights_2.assign_sub(dW2 * lr)\n",
        "    bias_2.assign_sub(db2 * lr)\n",
        "    \n",
        "    losses.append(loss)\n",
        "    \n",
        "plt.plot(list(range(len(losses))), losses)\n",
        "plt.ylabel('loss (MSE)')\n",
        "plt.xlabel('steps')\n",
        "plt.show()"
      ],
      "execution_count": null,
      "outputs": [
        {
          "output_type": "display_data",
          "data": {
            "image/png": "[encoded data removed]",
            "text/plain": [
              "<Figure size 432x288 with 1 Axes>"
            ]
          },
          "metadata": {
            "tags": [],
            "needs_background": "light"
          }
        }
      ]
    },
    {
      "cell_type": "code",
      "metadata": {
        "id": "Q_jFYLTAswF2"
      },
      "source": [
        ""
      ],
      "execution_count": null,
      "outputs": []
    }
  ]
}