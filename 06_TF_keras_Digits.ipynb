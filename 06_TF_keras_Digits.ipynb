{
  "nbformat": 4,
  "nbformat_minor": 0,
  "metadata": {
    "colab": {
      "name": "06 TF keras Digits.ipynb",
      "provenance": [],
      "authorship_tag": "ABX9TyOvMMc2GjdCtj18T5mm70+k",
      "include_colab_link": true
    },
    "kernelspec": {
      "name": "python3",
      "display_name": "Python 3"
    },
    "language_info": {
      "name": "python"
    }
  },
  "cells": [
    {
      "cell_type": "markdown",
      "metadata": {
        "id": "view-in-github",
        "colab_type": "text"
      },
      "source": [
        "<a href=\"https://colab.research.google.com/github/kzielins/ML_courses/blob/main/06_TF_keras_Digits.ipynb\" target=\"_parent\"><img src=\"https://colab.research.google.com/assets/colab-badge.svg\" alt=\"Open In Colab\"/></a>"
      ]
    },
    {
      "cell_type": "markdown",
      "metadata": {
        "id": "PnGViE1D6k6D"
      },
      "source": [
        "# digits\n",
        "based on : https://github.com/codebasics/deep-learning-keras-tf-tutorial/blob/master/1_digits_recognition/digits_recognition_neural_network.ipynb\n",
        "\n",
        "Video : https://www.youtube.com/watch?v=iqQgED9vV7k&t=496s\n",
        "Video Simple explanation of convolutional neural network | Deep Learning Tutorial 23 (Tensorflow & Python) : https://www.youtube.com/watch?v=zfiSAzpy9NM\n"
      ]
    },
    {
      "cell_type": "code",
      "metadata": {
        "id": "9m95ArYx5blT"
      },
      "source": [
        "import numpy as np\n",
        "import tensorflow as tf\n",
        "from tensorflow import keras\n",
        "\n",
        "import matplotlib.pyplot as plt\n",
        "%matplotlib inline"
      ],
      "execution_count": null,
      "outputs": []
    },
    {
      "cell_type": "code",
      "metadata": {
        "id": "NZ9yu0TW9wbo"
      },
      "source": [
        "(X_train, y_train), (X_test, y_test) = keras.datasets.mnist.load_data()"
      ],
      "execution_count": 54,
      "outputs": []
    },
    {
      "cell_type": "code",
      "metadata": {
        "colab": {
          "base_uri": "https://localhost:8080/"
        },
        "id": "l0YXgHMB99O4",
        "outputId": "9db2ae9b-5949-44b9-b9f5-a272b8eac233"
      },
      "source": [
        "print( len(X_train))\n",
        "print(len(X_test))"
      ],
      "execution_count": 55,
      "outputs": [
        {
          "output_type": "stream",
          "text": [
            "60000\n",
            "10000\n"
          ],
          "name": "stdout"
        }
      ]
    },
    {
      "cell_type": "code",
      "metadata": {
        "colab": {
          "base_uri": "https://localhost:8080/"
        },
        "id": "kHvLYsP1-AB0",
        "outputId": "6faa3404-73ee-47f3-9d76-3011d3c9b636"
      },
      "source": [
        "X_train[0].shape"
      ],
      "execution_count": 56,
      "outputs": [
        {
          "output_type": "execute_result",
          "data": {
            "text/plain": [
              "(28, 28)"
            ]
          },
          "metadata": {
            "tags": []
          },
          "execution_count": 56
        }
      ]
    },
    {
      "cell_type": "code",
      "metadata": {
        "id": "Q5cl09qg-LZV"
      },
      "source": [
        "X_train[0]"
      ],
      "execution_count": null,
      "outputs": []
    },
    {
      "cell_type": "code",
      "metadata": {
        "colab": {
          "base_uri": "https://localhost:8080/",
          "height": 292
        },
        "id": "bC6XXxJL-t7T",
        "outputId": "384c276d-726e-4f27-f655-dd8e1bded585"
      },
      "source": [
        "plt.matshow(X_train[0])"
      ],
      "execution_count": 58,
      "outputs": [
        {
          "output_type": "execute_result",
          "data": {
            "text/plain": [
              "<matplotlib.image.AxesImage at 0x7f35e7d22650>"
            ]
          },
          "metadata": {
            "tags": []
          },
          "execution_count": 58
        },
        {
          "output_type": "display_data",
          "data": {
            "image/png": "[encoded data removed]",
            "text/plain": [
              "<Figure size 288x288 with 1 Axes>"
            ]
          },
          "metadata": {
            "tags": [],
            "needs_background": "light"
          }
        }
      ]
    },
    {
      "cell_type": "code",
      "metadata": {
        "id": "DtWW06P1-1fS"
      },
      "source": [
        "X_train=X_train/255\n",
        "X_test=X_test/255"
      ],
      "execution_count": 59,
      "outputs": []
    },
    {
      "cell_type": "code",
      "metadata": {
        "id": "K8yAXGsV_ACP"
      },
      "source": [
        "X_train[0]"
      ],
      "execution_count": null,
      "outputs": []
    },
    {
      "cell_type": "code",
      "metadata": {
        "id": "hw9ciZui_Cks"
      },
      "source": [
        "X_train_flattened = X_train.reshape(len(X_train),28*28)\n",
        "X_test_flattened = X_test.reshape(len(X_test),28*28)"
      ],
      "execution_count": 61,
      "outputs": []
    },
    {
      "cell_type": "code",
      "metadata": {
        "colab": {
          "base_uri": "https://localhost:8080/"
        },
        "id": "8eR-8lQo_jzV",
        "outputId": "fcfb7ead-ff06-481c-caa1-9d0b6b77abca"
      },
      "source": [
        "X_train_flattened.shape\n"
      ],
      "execution_count": 62,
      "outputs": [
        {
          "output_type": "execute_result",
          "data": {
            "text/plain": [
              "(60000, 784)"
            ]
          },
          "metadata": {
            "tags": []
          },
          "execution_count": 62
        }
      ]
    },
    {
      "cell_type": "markdown",
      "metadata": {
        "id": "zsqdhUoB_si9"
      },
      "source": [
        "Simple nn ![image.png](\n",
        "https://github.com/codebasics/\n",
        "deep-learning-keras-tf-tutorial/raw/9a394a6a82e503d5e0c8470d7d6a90c1d17d3f67/1_digits_recognition/digits_nn.jpg\n",
        "  )"
      ]
    },
    {
      "cell_type": "code",
      "metadata": {
        "id": "BECimFYZ_nAY",
        "colab": {
          "base_uri": "https://localhost:8080/"
        },
        "outputId": "bd0e6051-3e62-4f0f-fff2-afee38acacad"
      },
      "source": [
        "model = keras.Sequential([\n",
        "    keras.layers.Dense(10,activation='sigmoid') \n",
        "      ])\n",
        "model.compile(optimizer='adam',\n",
        "              loss='sparse_categorical_crossentropy',\n",
        "#              loss='mean_squared_error',\n",
        "              metrics=['accuracy'] \n",
        "              )\n",
        "model.fit(X_train_flattened,y_train,epochs=5\n",
        "          #,batch_size=3000\n",
        "          )"
      ],
      "execution_count": 103,
      "outputs": [
        {
          "output_type": "stream",
          "text": [
            "Epoch 1/5\n",
            "1875/1875 [==============================] - 3s 1ms/step - loss: 0.7098 - accuracy: 0.8170\n",
            "Epoch 2/5\n",
            "1875/1875 [==============================] - 3s 1ms/step - loss: 0.3103 - accuracy: 0.9122\n",
            "Epoch 3/5\n",
            "1875/1875 [==============================] - 3s 1ms/step - loss: 0.2876 - accuracy: 0.9191\n",
            "Epoch 4/5\n",
            "1875/1875 [==============================] - 3s 1ms/step - loss: 0.2749 - accuracy: 0.9221\n",
            "Epoch 5/5\n",
            "1875/1875 [==============================] - 3s 1ms/step - loss: 0.2631 - accuracy: 0.9264\n"
          ],
          "name": "stdout"
        },
        {
          "output_type": "execute_result",
          "data": {
            "text/plain": [
              "<tensorflow.python.keras.callbacks.History at 0x7f35ce08b150>"
            ]
          },
          "metadata": {
            "tags": []
          },
          "execution_count": 103
        }
      ]
    },
    {
      "cell_type": "code",
      "metadata": {
        "colab": {
          "base_uri": "https://localhost:8080/"
        },
        "id": "AGWZQB6_AWR1",
        "outputId": "0103eb95-e2a4-4681-976d-4f3c2adf4170"
      },
      "source": [
        "model.evaluate(X_test_flattened,y_test)"
      ],
      "execution_count": 104,
      "outputs": [
        {
          "output_type": "stream",
          "text": [
            "313/313 [==============================] - 0s 1ms/step - loss: 0.2667 - accuracy: 0.9249\n"
          ],
          "name": "stdout"
        },
        {
          "output_type": "execute_result",
          "data": {
            "text/plain": [
              "[0.26666387915611267, 0.9248999953269958]"
            ]
          },
          "metadata": {
            "tags": []
          },
          "execution_count": 104
        }
      ]
    },
    {
      "cell_type": "code",
      "metadata": {
        "id": "uuF3omoBCDE5",
        "colab": {
          "base_uri": "https://localhost:8080/"
        },
        "outputId": "e21f2f89-5ec0-4613-d573-749e8cad6812"
      },
      "source": [
        "y_predicted=model.predict(X_test_flattened)\n",
        "print(y_predicted[1])\n",
        "print(np.argmax(y_predicted[1]))"
      ],
      "execution_count": 105,
      "outputs": [
        {
          "output_type": "stream",
          "text": [
            "[3.6312687e-01 4.1721761e-03 9.9914354e-01 2.7577907e-01 3.8113479e-10\n",
            " 8.6864895e-01 9.0152985e-01 7.9415039e-13 1.6021022e-01 2.4569324e-09]\n",
            "2\n"
          ],
          "name": "stdout"
        }
      ]
    },
    {
      "cell_type": "code",
      "metadata": {
        "colab": {
          "base_uri": "https://localhost:8080/",
          "height": 292
        },
        "id": "aBCghWc5FpbJ",
        "outputId": "301652e3-c8f1-42cc-ea41-22e4da70582f"
      },
      "source": [
        "plt.matshow(X_test[1])"
      ],
      "execution_count": 106,
      "outputs": [
        {
          "output_type": "execute_result",
          "data": {
            "text/plain": [
              "<matplotlib.image.AxesImage at 0x7f35cc73f6d0>"
            ]
          },
          "metadata": {
            "tags": []
          },
          "execution_count": 106
        },
        {
          "output_type": "display_data",
          "data": {
            "image/png": "[encoded data removed]",
            "text/plain": [
              "<Figure size 288x288 with 1 Axes>"
            ]
          },
          "metadata": {
            "tags": [],
            "needs_background": "light"
          }
        }
      ]
    },
    {
      "cell_type": "code",
      "metadata": {
        "id": "Fum6DyIQHKE4"
      },
      "source": [
        "y_predicted_labels=[np.argmax(i) for i in y_predicted]"
      ],
      "execution_count": 107,
      "outputs": []
    },
    {
      "cell_type": "code",
      "metadata": {
        "colab": {
          "base_uri": "https://localhost:8080/"
        },
        "id": "OsSt3oBAHeSN",
        "outputId": "686a48db-ae0f-4bf4-9073-b95599fa954c"
      },
      "source": [
        "cm=tf.math.confusion_matrix(labels=y_test,predictions=y_predicted_labels)\n",
        "cm"
      ],
      "execution_count": 108,
      "outputs": [
        {
          "output_type": "execute_result",
          "data": {
            "text/plain": [
              "<tf.Tensor: shape=(10, 10), dtype=int32, numpy=\n",
              "array([[ 962,    0,    1,    2,    0,    6,    6,    2,    1,    0],\n",
              "       [   0, 1109,    3,    2,    0,    1,    4,    2,   14,    0],\n",
              "       [   8,   12,  910,   17,    6,    5,   13,   10,   47,    4],\n",
              "       [   4,    0,   17,  917,    0,   27,    2,   11,   24,    8],\n",
              "       [   1,    1,    3,    2,  904,    0,   12,    4,   10,   45],\n",
              "       [   9,    2,    1,   28,    7,  786,   15,    4,   33,    7],\n",
              "       [  11,    3,    4,    1,    7,   13,  913,    2,    4,    0],\n",
              "       [   1,    5,   20,    8,    7,    0,    0,  943,    4,   40],\n",
              "       [   6,    6,    6,   18,    9,   27,    8,    9,  878,    7],\n",
              "       [  10,    7,    1,    9,   24,    6,    0,   16,    9,  927]],\n",
              "      dtype=int32)>"
            ]
          },
          "metadata": {
            "tags": []
          },
          "execution_count": 108
        }
      ]
    },
    {
      "cell_type": "code",
      "metadata": {
        "colab": {
          "base_uri": "https://localhost:8080/",
          "height": 459
        },
        "id": "nQ2AT6HmH-6U",
        "outputId": "44eb7c46-ed5c-4fb8-b405-54bcf0397dd1"
      },
      "source": [
        "import seaborn as sn\n",
        "plt.figure(figsize=(10,7))\n",
        "sn.heatmap(cm, annot=True,fmt='d')\n",
        "plt.xlabel('Predicted')\n",
        "plt.ylabel('Truth')"
      ],
      "execution_count": 109,
      "outputs": [
        {
          "output_type": "execute_result",
          "data": {
            "text/plain": [
              "Text(69.0, 0.5, 'Truth')"
            ]
          },
          "metadata": {
            "tags": []
          },
          "execution_count": 109
        },
        {
          "output_type": "display_data",
          "data": {
            "image/png": "[encoded data removed]",
            "text/plain": [
              "<Figure size 720x504 with 2 Axes>"
            ]
          },
          "metadata": {
            "tags": [],
            "needs_background": "light"
          }
        }
      ]
    },
    {
      "cell_type": "code",
      "metadata": {
        "colab": {
          "base_uri": "https://localhost:8080/"
        },
        "id": "LYjzzd-tIRym",
        "outputId": "3e81d456-937c-4d54-965b-47630d42f816"
      },
      "source": [
        "model = keras.Sequential([\n",
        "    keras.layers.Dense(100,input_shape=(784,),activation='relu'),\n",
        "    keras.layers.Dense(10,activation='sigmoid') \n",
        "      ])\n",
        "model.compile(optimizer='adam',\n",
        "              loss='sparse_categorical_crossentropy',\n",
        "#              loss='mean_squared_error',\n",
        "              metrics=['accuracy'] \n",
        "              )\n",
        "model.fit(X_train_flattened,y_train,epochs=5\n",
        "          #,batch_size=3000\n",
        "          )"
      ],
      "execution_count": 110,
      "outputs": [
        {
          "output_type": "stream",
          "text": [
            "Epoch 1/5\n",
            "1875/1875 [==============================] - 4s 2ms/step - loss: 0.4418 - accuracy: 0.8769\n",
            "Epoch 2/5\n",
            "1875/1875 [==============================] - 4s 2ms/step - loss: 0.1323 - accuracy: 0.9606\n",
            "Epoch 3/5\n",
            "1875/1875 [==============================] - 4s 2ms/step - loss: 0.0855 - accuracy: 0.9749\n",
            "Epoch 4/5\n",
            "1875/1875 [==============================] - 4s 2ms/step - loss: 0.0622 - accuracy: 0.9812\n",
            "Epoch 5/5\n",
            "1875/1875 [==============================] - 4s 2ms/step - loss: 0.0495 - accuracy: 0.9860\n"
          ],
          "name": "stdout"
        },
        {
          "output_type": "execute_result",
          "data": {
            "text/plain": [
              "<tensorflow.python.keras.callbacks.History at 0x7f35cc570890>"
            ]
          },
          "metadata": {
            "tags": []
          },
          "execution_count": 110
        }
      ]
    },
    {
      "cell_type": "code",
      "metadata": {
        "colab": {
          "base_uri": "https://localhost:8080/"
        },
        "id": "xe8JfsJ2JuZm",
        "outputId": "c97eea99-91ce-42b9-d583-78bfb1086ff1"
      },
      "source": [
        "model.evaluate(X_test_flattened,y_test)"
      ],
      "execution_count": 112,
      "outputs": [
        {
          "output_type": "stream",
          "text": [
            "313/313 [==============================] - 0s 1ms/step - loss: 0.0799 - accuracy: 0.9765\n"
          ],
          "name": "stdout"
        },
        {
          "output_type": "execute_result",
          "data": {
            "text/plain": [
              "[0.0799296423792839, 0.9764999747276306]"
            ]
          },
          "metadata": {
            "tags": []
          },
          "execution_count": 112
        }
      ]
    },
    {
      "cell_type": "code",
      "metadata": {
        "colab": {
          "base_uri": "https://localhost:8080/"
        },
        "id": "p2WPCQjDKD2V",
        "outputId": "b3816483-2631-4f5d-9b62-cac6f047acec"
      },
      "source": [
        "model = keras.Sequential([\n",
        "    keras.layers.Flatten(input_shape=(28,28)),\n",
        "    keras.layers.Dense(100,input_shape=(784,),activation='relu'),\n",
        "    keras.layers.Dense(10,activation='sigmoid') \n",
        "      ])\n",
        "model.compile(optimizer='adam',\n",
        "              loss='sparse_categorical_crossentropy',\n",
        "#              loss='mean_squared_error',\n",
        "              metrics=['accuracy'] \n",
        "              )\n",
        "model.fit(X_train,y_train,epochs=5\n",
        "          #,batch_size=3000\n",
        "          )"
      ],
      "execution_count": 115,
      "outputs": [
        {
          "output_type": "stream",
          "text": [
            "Epoch 1/5\n",
            "1875/1875 [==============================] - 4s 2ms/step - loss: 0.4617 - accuracy: 0.8718\n",
            "Epoch 2/5\n",
            "1875/1875 [==============================] - 4s 2ms/step - loss: 0.1352 - accuracy: 0.9608\n",
            "Epoch 3/5\n",
            "1875/1875 [==============================] - 4s 2ms/step - loss: 0.0885 - accuracy: 0.9742\n",
            "Epoch 4/5\n",
            "1875/1875 [==============================] - 4s 2ms/step - loss: 0.0654 - accuracy: 0.9801\n",
            "Epoch 5/5\n",
            "1875/1875 [==============================] - 4s 2ms/step - loss: 0.0500 - accuracy: 0.9849\n"
          ],
          "name": "stdout"
        },
        {
          "output_type": "execute_result",
          "data": {
            "text/plain": [
              "<tensorflow.python.keras.callbacks.History at 0x7f35ca2fcf50>"
            ]
          },
          "metadata": {
            "tags": []
          },
          "execution_count": 115
        }
      ]
    },
    {
      "cell_type": "code",
      "metadata": {
        "colab": {
          "base_uri": "https://localhost:8080/"
        },
        "id": "fiocPfctKaci",
        "outputId": "bb218c7f-8721-4590-95a5-d86ca0e6fd5f"
      },
      "source": [
        "model.evaluate(X_test,y_test)"
      ],
      "execution_count": 120,
      "outputs": [
        {
          "output_type": "stream",
          "text": [
            "313/313 [==============================] - 1s 2ms/step - loss: 0.3994 - accuracy: 0.8983\n"
          ],
          "name": "stdout"
        },
        {
          "output_type": "execute_result",
          "data": {
            "text/plain": [
              "[0.39938855171203613, 0.8982999920845032]"
            ]
          },
          "metadata": {
            "tags": []
          },
          "execution_count": 120
        }
      ]
    },
    {
      "cell_type": "code",
      "metadata": {
        "id": "eOPE1DtSKim8"
      },
      "source": [
        "model = keras.Sequential([\n",
        "    keras.layers.Flatten(input_shape=(28,28)),\n",
        "    keras.layers.Dense(100,input_shape=(784,),activation='relu'),\n",
        "    keras.layers.Dense(10,activation='sigmoid') \n",
        "      ])\n",
        "model.compile(\n",
        "    optimizer='Adam',\n",
        " #   optimizer='Adagrad',\n",
        "              loss='sparse_categorical_crossentropy',\n",
        " #             loss='mean_squared_error',\n",
        "              metrics=['accuracy'] \n",
        "              )\n",
        "model.fit(X_train,y_train,epochs=5\n",
        "          #,batch_size=3000\n",
        "          )\n",
        "model.evaluate(X_test,y_test)"
      ],
      "execution_count": null,
      "outputs": []
    },
    {
      "cell_type": "code",
      "metadata": {
        "id": "I__ZYnlALBUV"
      },
      "source": [
        ""
      ],
      "execution_count": null,
      "outputs": []
    }
  ]
}